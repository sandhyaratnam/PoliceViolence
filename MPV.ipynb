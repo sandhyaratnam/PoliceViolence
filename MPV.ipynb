{
    "metadata": {
        "kernelspec": {
            "name": "SQL",
            "display_name": "SQL",
            "language": "sql"
        },
        "language_info": {
            "name": "sql",
            "version": ""
        }
    },
    "nbformat_minor": 2,
    "nbformat": 4,
    "cells": [
        {
            "cell_type": "code",
            "source": [
                ""
            ],
            "metadata": {
                "azdata_cell_guid": "d00a3586-dea4-4b6a-91b7-165be19cd7e8"
            },
            "outputs": [],
            "execution_count": null
        }
    ]
}